{
  "nbformat": 4,
  "nbformat_minor": 0,
  "metadata": {
    "colab": {
      "provenance": []
    },
    "kernelspec": {
      "name": "python3",
      "display_name": "Python 3"
    },
    "language_info": {
      "name": "python"
    },
    "accelerator": "GPU",
    "gpuClass": "standard",
    "widgets": {
      "application/vnd.jupyter.widget-state+json": {
        "3574fce3f4f54c2cb0e0693fa3564c98": {
          "model_module": "@jupyter-widgets/controls",
          "model_name": "HBoxModel",
          "model_module_version": "1.5.0",
          "state": {
            "_dom_classes": [],
            "_model_module": "@jupyter-widgets/controls",
            "_model_module_version": "1.5.0",
            "_model_name": "HBoxModel",
            "_view_count": null,
            "_view_module": "@jupyter-widgets/controls",
            "_view_module_version": "1.5.0",
            "_view_name": "HBoxView",
            "box_style": "",
            "children": [
              "IPY_MODEL_c44d05bff1194dda8c235cd09e0844ad",
              "IPY_MODEL_a038aa2e09de4769bdfab5bdf1ef29d7",
              "IPY_MODEL_2bb2d69f97db4fe3a6b626b0d1c3b6e2"
            ],
            "layout": "IPY_MODEL_9181c87195a24b288bbd28789dbc9ccb"
          }
        },
        "c44d05bff1194dda8c235cd09e0844ad": {
          "model_module": "@jupyter-widgets/controls",
          "model_name": "HTMLModel",
          "model_module_version": "1.5.0",
          "state": {
            "_dom_classes": [],
            "_model_module": "@jupyter-widgets/controls",
            "_model_module_version": "1.5.0",
            "_model_name": "HTMLModel",
            "_view_count": null,
            "_view_module": "@jupyter-widgets/controls",
            "_view_module_version": "1.5.0",
            "_view_name": "HTMLView",
            "description": "",
            "description_tooltip": null,
            "layout": "IPY_MODEL_df4f499528f9456a9a0a669429a039b6",
            "placeholder": "​",
            "style": "IPY_MODEL_cd7792bab026482796194d5f3d7c0cd3",
            "value": "Model export complete: 100%"
          }
        },
        "a038aa2e09de4769bdfab5bdf1ef29d7": {
          "model_module": "@jupyter-widgets/controls",
          "model_name": "FloatProgressModel",
          "model_module_version": "1.5.0",
          "state": {
            "_dom_classes": [],
            "_model_module": "@jupyter-widgets/controls",
            "_model_module_version": "1.5.0",
            "_model_name": "FloatProgressModel",
            "_view_count": null,
            "_view_module": "@jupyter-widgets/controls",
            "_view_module_version": "1.5.0",
            "_view_name": "ProgressView",
            "bar_style": "success",
            "description": "",
            "description_tooltip": null,
            "layout": "IPY_MODEL_05570059ec1f47949527a28da0898dbb",
            "max": 6,
            "min": 0,
            "orientation": "horizontal",
            "style": "IPY_MODEL_58e6909461cf4719871f47dc55ddab83",
            "value": 6
          }
        },
        "2bb2d69f97db4fe3a6b626b0d1c3b6e2": {
          "model_module": "@jupyter-widgets/controls",
          "model_name": "HTMLModel",
          "model_module_version": "1.5.0",
          "state": {
            "_dom_classes": [],
            "_model_module": "@jupyter-widgets/controls",
            "_model_module_version": "1.5.0",
            "_model_name": "HTMLModel",
            "_view_count": null,
            "_view_module": "@jupyter-widgets/controls",
            "_view_module_version": "1.5.0",
            "_view_name": "HTMLView",
            "description": "",
            "description_tooltip": null,
            "layout": "IPY_MODEL_eb47a8c42d824ec983bd3cc04e406e17",
            "placeholder": "​",
            "style": "IPY_MODEL_bb48c81969014ff4b66d5fb3533a1cdc",
            "value": " 6/6 [00:24&lt;00:00,  5.15s/it]"
          }
        },
        "9181c87195a24b288bbd28789dbc9ccb": {
          "model_module": "@jupyter-widgets/base",
          "model_name": "LayoutModel",
          "model_module_version": "1.2.0",
          "state": {
            "_model_module": "@jupyter-widgets/base",
            "_model_module_version": "1.2.0",
            "_model_name": "LayoutModel",
            "_view_count": null,
            "_view_module": "@jupyter-widgets/base",
            "_view_module_version": "1.2.0",
            "_view_name": "LayoutView",
            "align_content": null,
            "align_items": null,
            "align_self": null,
            "border": null,
            "bottom": null,
            "display": null,
            "flex": null,
            "flex_flow": null,
            "grid_area": null,
            "grid_auto_columns": null,
            "grid_auto_flow": null,
            "grid_auto_rows": null,
            "grid_column": null,
            "grid_gap": null,
            "grid_row": null,
            "grid_template_areas": null,
            "grid_template_columns": null,
            "grid_template_rows": null,
            "height": null,
            "justify_content": null,
            "justify_items": null,
            "left": null,
            "margin": null,
            "max_height": null,
            "max_width": null,
            "min_height": null,
            "min_width": null,
            "object_fit": null,
            "object_position": null,
            "order": null,
            "overflow": null,
            "overflow_x": null,
            "overflow_y": null,
            "padding": null,
            "right": null,
            "top": null,
            "visibility": null,
            "width": null
          }
        },
        "df4f499528f9456a9a0a669429a039b6": {
          "model_module": "@jupyter-widgets/base",
          "model_name": "LayoutModel",
          "model_module_version": "1.2.0",
          "state": {
            "_model_module": "@jupyter-widgets/base",
            "_model_module_version": "1.2.0",
            "_model_name": "LayoutModel",
            "_view_count": null,
            "_view_module": "@jupyter-widgets/base",
            "_view_module_version": "1.2.0",
            "_view_name": "LayoutView",
            "align_content": null,
            "align_items": null,
            "align_self": null,
            "border": null,
            "bottom": null,
            "display": null,
            "flex": null,
            "flex_flow": null,
            "grid_area": null,
            "grid_auto_columns": null,
            "grid_auto_flow": null,
            "grid_auto_rows": null,
            "grid_column": null,
            "grid_gap": null,
            "grid_row": null,
            "grid_template_areas": null,
            "grid_template_columns": null,
            "grid_template_rows": null,
            "height": null,
            "justify_content": null,
            "justify_items": null,
            "left": null,
            "margin": null,
            "max_height": null,
            "max_width": null,
            "min_height": null,
            "min_width": null,
            "object_fit": null,
            "object_position": null,
            "order": null,
            "overflow": null,
            "overflow_x": null,
            "overflow_y": null,
            "padding": null,
            "right": null,
            "top": null,
            "visibility": null,
            "width": null
          }
        },
        "cd7792bab026482796194d5f3d7c0cd3": {
          "model_module": "@jupyter-widgets/controls",
          "model_name": "DescriptionStyleModel",
          "model_module_version": "1.5.0",
          "state": {
            "_model_module": "@jupyter-widgets/controls",
            "_model_module_version": "1.5.0",
            "_model_name": "DescriptionStyleModel",
            "_view_count": null,
            "_view_module": "@jupyter-widgets/base",
            "_view_module_version": "1.2.0",
            "_view_name": "StyleView",
            "description_width": ""
          }
        },
        "05570059ec1f47949527a28da0898dbb": {
          "model_module": "@jupyter-widgets/base",
          "model_name": "LayoutModel",
          "model_module_version": "1.2.0",
          "state": {
            "_model_module": "@jupyter-widgets/base",
            "_model_module_version": "1.2.0",
            "_model_name": "LayoutModel",
            "_view_count": null,
            "_view_module": "@jupyter-widgets/base",
            "_view_module_version": "1.2.0",
            "_view_name": "LayoutView",
            "align_content": null,
            "align_items": null,
            "align_self": null,
            "border": null,
            "bottom": null,
            "display": null,
            "flex": null,
            "flex_flow": null,
            "grid_area": null,
            "grid_auto_columns": null,
            "grid_auto_flow": null,
            "grid_auto_rows": null,
            "grid_column": null,
            "grid_gap": null,
            "grid_row": null,
            "grid_template_areas": null,
            "grid_template_columns": null,
            "grid_template_rows": null,
            "height": null,
            "justify_content": null,
            "justify_items": null,
            "left": null,
            "margin": null,
            "max_height": null,
            "max_width": null,
            "min_height": null,
            "min_width": null,
            "object_fit": null,
            "object_position": null,
            "order": null,
            "overflow": null,
            "overflow_x": null,
            "overflow_y": null,
            "padding": null,
            "right": null,
            "top": null,
            "visibility": null,
            "width": null
          }
        },
        "58e6909461cf4719871f47dc55ddab83": {
          "model_module": "@jupyter-widgets/controls",
          "model_name": "ProgressStyleModel",
          "model_module_version": "1.5.0",
          "state": {
            "_model_module": "@jupyter-widgets/controls",
            "_model_module_version": "1.5.0",
            "_model_name": "ProgressStyleModel",
            "_view_count": null,
            "_view_module": "@jupyter-widgets/base",
            "_view_module_version": "1.2.0",
            "_view_name": "StyleView",
            "bar_color": null,
            "description_width": ""
          }
        },
        "eb47a8c42d824ec983bd3cc04e406e17": {
          "model_module": "@jupyter-widgets/base",
          "model_name": "LayoutModel",
          "model_module_version": "1.2.0",
          "state": {
            "_model_module": "@jupyter-widgets/base",
            "_model_module_version": "1.2.0",
            "_model_name": "LayoutModel",
            "_view_count": null,
            "_view_module": "@jupyter-widgets/base",
            "_view_module_version": "1.2.0",
            "_view_name": "LayoutView",
            "align_content": null,
            "align_items": null,
            "align_self": null,
            "border": null,
            "bottom": null,
            "display": null,
            "flex": null,
            "flex_flow": null,
            "grid_area": null,
            "grid_auto_columns": null,
            "grid_auto_flow": null,
            "grid_auto_rows": null,
            "grid_column": null,
            "grid_gap": null,
            "grid_row": null,
            "grid_template_areas": null,
            "grid_template_columns": null,
            "grid_template_rows": null,
            "height": null,
            "justify_content": null,
            "justify_items": null,
            "left": null,
            "margin": null,
            "max_height": null,
            "max_width": null,
            "min_height": null,
            "min_width": null,
            "object_fit": null,
            "object_position": null,
            "order": null,
            "overflow": null,
            "overflow_x": null,
            "overflow_y": null,
            "padding": null,
            "right": null,
            "top": null,
            "visibility": null,
            "width": null
          }
        },
        "bb48c81969014ff4b66d5fb3533a1cdc": {
          "model_module": "@jupyter-widgets/controls",
          "model_name": "DescriptionStyleModel",
          "model_module_version": "1.5.0",
          "state": {
            "_model_module": "@jupyter-widgets/controls",
            "_model_module_version": "1.5.0",
            "_model_name": "DescriptionStyleModel",
            "_view_count": null,
            "_view_module": "@jupyter-widgets/base",
            "_view_module_version": "1.2.0",
            "_view_name": "StyleView",
            "description_width": ""
          }
        }
      }
    }
  },
  "cells": [
    {
      "cell_type": "code",
      "source": [
        "from google.colab import drive\n",
        "drive.mount('/content/drive')"
      ],
      "metadata": {
        "id": "L1B6iPptmhoB",
        "colab": {
          "base_uri": "https://localhost:8080/"
        },
        "outputId": "92512b8f-1d4d-402e-cda4-fdd0d5ee111a"
      },
      "execution_count": 1,
      "outputs": [
        {
          "output_type": "stream",
          "name": "stdout",
          "text": [
            "Mounted at /content/drive\n"
          ]
        }
      ]
    },
    {
      "cell_type": "code",
      "source": [
        "!pip install hopsworks"
      ],
      "metadata": {
        "id": "BEtfyT1imkTj",
        "colab": {
          "base_uri": "https://localhost:8080/"
        },
        "outputId": "51958023-d837-414d-ae40-e6382048cf15"
      },
      "execution_count": 1,
      "outputs": [
        {
          "output_type": "stream",
          "name": "stdout",
          "text": [
            "Looking in indexes: https://pypi.org/simple, https://us-python.pkg.dev/colab-wheels/public/simple/\n",
            "Requirement already satisfied: hopsworks in /usr/local/lib/python3.8/dist-packages (3.0.5)\n",
            "Requirement already satisfied: tqdm in /usr/local/lib/python3.8/dist-packages (from hopsworks) (4.64.1)\n",
            "Requirement already satisfied: mock in /usr/local/lib/python3.8/dist-packages (from hopsworks) (5.0.1)\n",
            "Requirement already satisfied: hsfs[python]<3.1.0,>=3.0.0 in /usr/local/lib/python3.8/dist-packages (from hopsworks) (3.0.5)\n",
            "Requirement already satisfied: pyjks in /usr/local/lib/python3.8/dist-packages (from hopsworks) (20.0.0)\n",
            "Requirement already satisfied: requests in /usr/local/lib/python3.8/dist-packages (from hopsworks) (2.25.1)\n",
            "Requirement already satisfied: boto3 in /usr/local/lib/python3.8/dist-packages (from hopsworks) (1.26.51)\n",
            "Requirement already satisfied: hsml<3.1.0,>=3.0.0 in /usr/local/lib/python3.8/dist-packages (from hopsworks) (3.0.3)\n",
            "Requirement already satisfied: furl in /usr/local/lib/python3.8/dist-packages (from hopsworks) (2.1.3)\n",
            "Requirement already satisfied: pyhumps==1.6.1 in /usr/local/lib/python3.8/dist-packages (from hopsworks) (1.6.1)\n",
            "Requirement already satisfied: markupsafe<2.1.0 in /usr/local/lib/python3.8/dist-packages (from hsfs[python]<3.1.0,>=3.0.0->hopsworks) (2.0.1)\n",
            "Requirement already satisfied: great-expectations==0.14.12 in /usr/local/lib/python3.8/dist-packages (from hsfs[python]<3.1.0,>=3.0.0->hopsworks) (0.14.12)\n",
            "Requirement already satisfied: sqlalchemy in /usr/local/lib/python3.8/dist-packages (from hsfs[python]<3.1.0,>=3.0.0->hopsworks) (1.4.46)\n",
            "Requirement already satisfied: PyMySQL[rsa] in /usr/local/lib/python3.8/dist-packages (from hsfs[python]<3.1.0,>=3.0.0->hopsworks) (1.0.2)\n",
            "Requirement already satisfied: pandas>=1.2.0 in /usr/local/lib/python3.8/dist-packages (from hsfs[python]<3.1.0,>=3.0.0->hopsworks) (1.3.5)\n",
            "Requirement already satisfied: numpy in /usr/local/lib/python3.8/dist-packages (from hsfs[python]<3.1.0,>=3.0.0->hopsworks) (1.21.6)\n",
            "Requirement already satisfied: avro==1.10.2 in /usr/local/lib/python3.8/dist-packages (from hsfs[python]<3.1.0,>=3.0.0->hopsworks) (1.10.2)\n",
            "Requirement already satisfied: fastavro==1.4.11 in /usr/local/lib/python3.8/dist-packages (from hsfs[python]<3.1.0,>=3.0.0->hopsworks) (1.4.11)\n",
            "Requirement already satisfied: pyarrow in /usr/local/lib/python3.8/dist-packages (from hsfs[python]<3.1.0,>=3.0.0->hopsworks) (9.0.0)\n",
            "Requirement already satisfied: confluent-kafka==1.8.2 in /usr/local/lib/python3.8/dist-packages (from hsfs[python]<3.1.0,>=3.0.0->hopsworks) (1.8.2)\n",
            "Requirement already satisfied: pyhopshive[thrift] in /usr/local/lib/python3.8/dist-packages (from hsfs[python]<3.1.0,>=3.0.0->hopsworks) (0.6.4.1.dev0)\n",
            "Requirement already satisfied: ipywidgets>=7.5.1 in /usr/local/lib/python3.8/dist-packages (from great-expectations==0.14.12->hsfs[python]<3.1.0,>=3.0.0->hopsworks) (7.7.1)\n",
            "Requirement already satisfied: jinja2<3.1.0,>=2.10 in /usr/local/lib/python3.8/dist-packages (from great-expectations==0.14.12->hsfs[python]<3.1.0,>=3.0.0->hopsworks) (2.11.3)\n",
            "Requirement already satisfied: pytz>=2021.3 in /usr/local/lib/python3.8/dist-packages (from great-expectations==0.14.12->hsfs[python]<3.1.0,>=3.0.0->hopsworks) (2022.7)\n",
            "Requirement already satisfied: python-dateutil>=2.8.1 in /usr/local/lib/python3.8/dist-packages (from great-expectations==0.14.12->hsfs[python]<3.1.0,>=3.0.0->hopsworks) (2.8.2)\n",
            "Requirement already satisfied: jsonpatch>=1.22 in /usr/local/lib/python3.8/dist-packages (from great-expectations==0.14.12->hsfs[python]<3.1.0,>=3.0.0->hopsworks) (1.32)\n",
            "Requirement already satisfied: typing-extensions>=3.10.0.0 in /usr/local/lib/python3.8/dist-packages (from great-expectations==0.14.12->hsfs[python]<3.1.0,>=3.0.0->hopsworks) (4.4.0)\n",
            "Requirement already satisfied: colorama>=0.4.3 in /usr/local/lib/python3.8/dist-packages (from great-expectations==0.14.12->hsfs[python]<3.1.0,>=3.0.0->hopsworks) (0.4.6)\n",
            "Requirement already satisfied: tzlocal>=1.2 in /usr/local/lib/python3.8/dist-packages (from great-expectations==0.14.12->hsfs[python]<3.1.0,>=3.0.0->hopsworks) (1.5.1)\n",
            "Requirement already satisfied: importlib-metadata>=1.7.0 in /usr/local/lib/python3.8/dist-packages (from great-expectations==0.14.12->hsfs[python]<3.1.0,>=3.0.0->hopsworks) (6.0.0)\n",
            "Requirement already satisfied: ruamel.yaml<0.17.18,>=0.16 in /usr/local/lib/python3.8/dist-packages (from great-expectations==0.14.12->hsfs[python]<3.1.0,>=3.0.0->hopsworks) (0.17.17)\n",
            "Requirement already satisfied: termcolor>=1.1.0 in /usr/local/lib/python3.8/dist-packages (from great-expectations==0.14.12->hsfs[python]<3.1.0,>=3.0.0->hopsworks) (2.2.0)\n",
            "Requirement already satisfied: pyparsing<3,>=2.4 in /usr/local/lib/python3.8/dist-packages (from great-expectations==0.14.12->hsfs[python]<3.1.0,>=3.0.0->hopsworks) (2.4.7)\n",
            "Requirement already satisfied: jsonschema>=2.5.1 in /usr/local/lib/python3.8/dist-packages (from great-expectations==0.14.12->hsfs[python]<3.1.0,>=3.0.0->hopsworks) (4.3.3)\n",
            "Requirement already satisfied: packaging in /usr/local/lib/python3.8/dist-packages (from great-expectations==0.14.12->hsfs[python]<3.1.0,>=3.0.0->hopsworks) (21.3)\n",
            "Requirement already satisfied: Click>=7.1.2 in /usr/local/lib/python3.8/dist-packages (from great-expectations==0.14.12->hsfs[python]<3.1.0,>=3.0.0->hopsworks) (7.1.2)\n",
            "Requirement already satisfied: altair<5,>=4.0.0 in /usr/local/lib/python3.8/dist-packages (from great-expectations==0.14.12->hsfs[python]<3.1.0,>=3.0.0->hopsworks) (4.2.0)\n",
            "Requirement already satisfied: scipy>=0.19.0 in /usr/local/lib/python3.8/dist-packages (from great-expectations==0.14.12->hsfs[python]<3.1.0,>=3.0.0->hopsworks) (1.7.3)\n",
            "Requirement already satisfied: urllib3<1.27,>=1.25.4 in /usr/local/lib/python3.8/dist-packages (from great-expectations==0.14.12->hsfs[python]<3.1.0,>=3.0.0->hopsworks) (1.26.14)\n",
            "Requirement already satisfied: mistune<2.0.0,>=0.8.4 in /usr/local/lib/python3.8/dist-packages (from great-expectations==0.14.12->hsfs[python]<3.1.0,>=3.0.0->hopsworks) (0.8.4)\n",
            "Requirement already satisfied: cryptography>=3.2 in /usr/local/lib/python3.8/dist-packages (from great-expectations==0.14.12->hsfs[python]<3.1.0,>=3.0.0->hopsworks) (39.0.0)\n",
            "Requirement already satisfied: nbformat>=5.0 in /usr/local/lib/python3.8/dist-packages (from great-expectations==0.14.12->hsfs[python]<3.1.0,>=3.0.0->hopsworks) (5.7.1)\n",
            "Requirement already satisfied: certifi>=2017.4.17 in /usr/local/lib/python3.8/dist-packages (from requests->hopsworks) (2022.12.7)\n",
            "Requirement already satisfied: chardet<5,>=3.0.2 in /usr/local/lib/python3.8/dist-packages (from requests->hopsworks) (4.0.0)\n",
            "Requirement already satisfied: idna<3,>=2.5 in /usr/local/lib/python3.8/dist-packages (from requests->hopsworks) (2.10)\n",
            "Requirement already satisfied: s3transfer<0.7.0,>=0.6.0 in /usr/local/lib/python3.8/dist-packages (from boto3->hopsworks) (0.6.0)\n",
            "Requirement already satisfied: botocore<1.30.0,>=1.29.51 in /usr/local/lib/python3.8/dist-packages (from boto3->hopsworks) (1.29.51)\n",
            "Requirement already satisfied: jmespath<2.0.0,>=0.7.1 in /usr/local/lib/python3.8/dist-packages (from boto3->hopsworks) (1.0.1)\n",
            "Requirement already satisfied: six>=1.8.0 in /usr/local/lib/python3.8/dist-packages (from furl->hopsworks) (1.15.0)\n",
            "Requirement already satisfied: orderedmultidict>=1.0.1 in /usr/local/lib/python3.8/dist-packages (from furl->hopsworks) (1.0.1)\n",
            "Requirement already satisfied: javaobj-py3 in /usr/local/lib/python3.8/dist-packages (from pyjks->hopsworks) (0.4.3)\n",
            "Requirement already satisfied: pycryptodomex in /usr/local/lib/python3.8/dist-packages (from pyjks->hopsworks) (3.16.0)\n",
            "Requirement already satisfied: twofish in /usr/local/lib/python3.8/dist-packages (from pyjks->hopsworks) (0.3.0)\n",
            "Requirement already satisfied: pyasn1-modules in /usr/local/lib/python3.8/dist-packages (from pyjks->hopsworks) (0.2.8)\n",
            "Requirement already satisfied: pyasn1>=0.3.5 in /usr/local/lib/python3.8/dist-packages (from pyjks->hopsworks) (0.4.8)\n",
            "Requirement already satisfied: future in /usr/local/lib/python3.8/dist-packages (from pyhopshive[thrift]->hsfs[python]<3.1.0,>=3.0.0->hopsworks) (0.16.0)\n",
            "Requirement already satisfied: thrift>=0.10.0 in /usr/local/lib/python3.8/dist-packages (from pyhopshive[thrift]->hsfs[python]<3.1.0,>=3.0.0->hopsworks) (0.16.0)\n",
            "Requirement already satisfied: greenlet!=0.4.17 in /usr/local/lib/python3.8/dist-packages (from sqlalchemy->hsfs[python]<3.1.0,>=3.0.0->hopsworks) (2.0.1)\n",
            "Requirement already satisfied: entrypoints in /usr/local/lib/python3.8/dist-packages (from altair<5,>=4.0.0->great-expectations==0.14.12->hsfs[python]<3.1.0,>=3.0.0->hopsworks) (0.4)\n",
            "Requirement already satisfied: toolz in /usr/local/lib/python3.8/dist-packages (from altair<5,>=4.0.0->great-expectations==0.14.12->hsfs[python]<3.1.0,>=3.0.0->hopsworks) (0.12.0)\n",
            "Requirement already satisfied: cffi>=1.12 in /usr/local/lib/python3.8/dist-packages (from cryptography>=3.2->great-expectations==0.14.12->hsfs[python]<3.1.0,>=3.0.0->hopsworks) (1.15.1)\n",
            "Requirement already satisfied: zipp>=0.5 in /usr/local/lib/python3.8/dist-packages (from importlib-metadata>=1.7.0->great-expectations==0.14.12->hsfs[python]<3.1.0,>=3.0.0->hopsworks) (3.11.0)\n",
            "Requirement already satisfied: widgetsnbextension~=3.6.0 in /usr/local/lib/python3.8/dist-packages (from ipywidgets>=7.5.1->great-expectations==0.14.12->hsfs[python]<3.1.0,>=3.0.0->hopsworks) (3.6.1)\n",
            "Requirement already satisfied: ipython-genutils~=0.2.0 in /usr/local/lib/python3.8/dist-packages (from ipywidgets>=7.5.1->great-expectations==0.14.12->hsfs[python]<3.1.0,>=3.0.0->hopsworks) (0.2.0)\n",
            "Requirement already satisfied: jupyterlab-widgets>=1.0.0 in /usr/local/lib/python3.8/dist-packages (from ipywidgets>=7.5.1->great-expectations==0.14.12->hsfs[python]<3.1.0,>=3.0.0->hopsworks) (3.0.5)\n",
            "Requirement already satisfied: ipykernel>=4.5.1 in /usr/local/lib/python3.8/dist-packages (from ipywidgets>=7.5.1->great-expectations==0.14.12->hsfs[python]<3.1.0,>=3.0.0->hopsworks) (5.3.4)\n",
            "Requirement already satisfied: ipython>=4.0.0 in /usr/local/lib/python3.8/dist-packages (from ipywidgets>=7.5.1->great-expectations==0.14.12->hsfs[python]<3.1.0,>=3.0.0->hopsworks) (7.9.0)\n",
            "Requirement already satisfied: traitlets>=4.3.1 in /usr/local/lib/python3.8/dist-packages (from ipywidgets>=7.5.1->great-expectations==0.14.12->hsfs[python]<3.1.0,>=3.0.0->hopsworks) (5.7.1)\n",
            "Requirement already satisfied: jsonpointer>=1.9 in /usr/local/lib/python3.8/dist-packages (from jsonpatch>=1.22->great-expectations==0.14.12->hsfs[python]<3.1.0,>=3.0.0->hopsworks) (2.3)\n",
            "Requirement already satisfied: importlib-resources>=1.4.0 in /usr/local/lib/python3.8/dist-packages (from jsonschema>=2.5.1->great-expectations==0.14.12->hsfs[python]<3.1.0,>=3.0.0->hopsworks) (5.10.2)\n",
            "Requirement already satisfied: pyrsistent!=0.17.0,!=0.17.1,!=0.17.2,>=0.14.0 in /usr/local/lib/python3.8/dist-packages (from jsonschema>=2.5.1->great-expectations==0.14.12->hsfs[python]<3.1.0,>=3.0.0->hopsworks) (0.19.3)\n",
            "Requirement already satisfied: attrs>=17.4.0 in /usr/local/lib/python3.8/dist-packages (from jsonschema>=2.5.1->great-expectations==0.14.12->hsfs[python]<3.1.0,>=3.0.0->hopsworks) (22.2.0)\n",
            "Requirement already satisfied: fastjsonschema in /usr/local/lib/python3.8/dist-packages (from nbformat>=5.0->great-expectations==0.14.12->hsfs[python]<3.1.0,>=3.0.0->hopsworks) (2.16.2)\n",
            "Requirement already satisfied: jupyter-core in /usr/local/lib/python3.8/dist-packages (from nbformat>=5.0->great-expectations==0.14.12->hsfs[python]<3.1.0,>=3.0.0->hopsworks) (5.1.3)\n",
            "Requirement already satisfied: ruamel.yaml.clib>=0.1.2 in /usr/local/lib/python3.8/dist-packages (from ruamel.yaml<0.17.18,>=0.16->great-expectations==0.14.12->hsfs[python]<3.1.0,>=3.0.0->hopsworks) (0.2.7)\n",
            "Requirement already satisfied: pycparser in /usr/local/lib/python3.8/dist-packages (from cffi>=1.12->cryptography>=3.2->great-expectations==0.14.12->hsfs[python]<3.1.0,>=3.0.0->hopsworks) (2.21)\n",
            "Requirement already satisfied: tornado>=4.2 in /usr/local/lib/python3.8/dist-packages (from ipykernel>=4.5.1->ipywidgets>=7.5.1->great-expectations==0.14.12->hsfs[python]<3.1.0,>=3.0.0->hopsworks) (6.0.4)\n",
            "Requirement already satisfied: jupyter-client in /usr/local/lib/python3.8/dist-packages (from ipykernel>=4.5.1->ipywidgets>=7.5.1->great-expectations==0.14.12->hsfs[python]<3.1.0,>=3.0.0->hopsworks) (6.1.12)\n",
            "Requirement already satisfied: setuptools>=18.5 in /usr/local/lib/python3.8/dist-packages (from ipython>=4.0.0->ipywidgets>=7.5.1->great-expectations==0.14.12->hsfs[python]<3.1.0,>=3.0.0->hopsworks) (57.4.0)\n",
            "Requirement already satisfied: pickleshare in /usr/local/lib/python3.8/dist-packages (from ipython>=4.0.0->ipywidgets>=7.5.1->great-expectations==0.14.12->hsfs[python]<3.1.0,>=3.0.0->hopsworks) (0.7.5)\n",
            "Requirement already satisfied: pexpect in /usr/local/lib/python3.8/dist-packages (from ipython>=4.0.0->ipywidgets>=7.5.1->great-expectations==0.14.12->hsfs[python]<3.1.0,>=3.0.0->hopsworks) (4.8.0)\n",
            "Requirement already satisfied: decorator in /usr/local/lib/python3.8/dist-packages (from ipython>=4.0.0->ipywidgets>=7.5.1->great-expectations==0.14.12->hsfs[python]<3.1.0,>=3.0.0->hopsworks) (4.4.2)\n",
            "Requirement already satisfied: jedi>=0.10 in /usr/local/lib/python3.8/dist-packages (from ipython>=4.0.0->ipywidgets>=7.5.1->great-expectations==0.14.12->hsfs[python]<3.1.0,>=3.0.0->hopsworks) (0.18.2)\n",
            "Requirement already satisfied: prompt-toolkit<2.1.0,>=2.0.0 in /usr/local/lib/python3.8/dist-packages (from ipython>=4.0.0->ipywidgets>=7.5.1->great-expectations==0.14.12->hsfs[python]<3.1.0,>=3.0.0->hopsworks) (2.0.10)\n",
            "Requirement already satisfied: pygments in /usr/local/lib/python3.8/dist-packages (from ipython>=4.0.0->ipywidgets>=7.5.1->great-expectations==0.14.12->hsfs[python]<3.1.0,>=3.0.0->hopsworks) (2.6.1)\n",
            "Requirement already satisfied: backcall in /usr/local/lib/python3.8/dist-packages (from ipython>=4.0.0->ipywidgets>=7.5.1->great-expectations==0.14.12->hsfs[python]<3.1.0,>=3.0.0->hopsworks) (0.2.0)\n",
            "Requirement already satisfied: notebook>=4.4.1 in /usr/local/lib/python3.8/dist-packages (from widgetsnbextension~=3.6.0->ipywidgets>=7.5.1->great-expectations==0.14.12->hsfs[python]<3.1.0,>=3.0.0->hopsworks) (5.7.16)\n",
            "Requirement already satisfied: platformdirs>=2.5 in /usr/local/lib/python3.8/dist-packages (from jupyter-core->nbformat>=5.0->great-expectations==0.14.12->hsfs[python]<3.1.0,>=3.0.0->hopsworks) (2.6.2)\n",
            "Requirement already satisfied: parso<0.9.0,>=0.8.0 in /usr/local/lib/python3.8/dist-packages (from jedi>=0.10->ipython>=4.0.0->ipywidgets>=7.5.1->great-expectations==0.14.12->hsfs[python]<3.1.0,>=3.0.0->hopsworks) (0.8.3)\n",
            "Requirement already satisfied: prometheus-client in /usr/local/lib/python3.8/dist-packages (from notebook>=4.4.1->widgetsnbextension~=3.6.0->ipywidgets>=7.5.1->great-expectations==0.14.12->hsfs[python]<3.1.0,>=3.0.0->hopsworks) (0.15.0)\n",
            "Requirement already satisfied: terminado>=0.8.1 in /usr/local/lib/python3.8/dist-packages (from notebook>=4.4.1->widgetsnbextension~=3.6.0->ipywidgets>=7.5.1->great-expectations==0.14.12->hsfs[python]<3.1.0,>=3.0.0->hopsworks) (0.13.3)\n",
            "Requirement already satisfied: Send2Trash in /usr/local/lib/python3.8/dist-packages (from notebook>=4.4.1->widgetsnbextension~=3.6.0->ipywidgets>=7.5.1->great-expectations==0.14.12->hsfs[python]<3.1.0,>=3.0.0->hopsworks) (1.8.0)\n",
            "Requirement already satisfied: pyzmq>=17 in /usr/local/lib/python3.8/dist-packages (from notebook>=4.4.1->widgetsnbextension~=3.6.0->ipywidgets>=7.5.1->great-expectations==0.14.12->hsfs[python]<3.1.0,>=3.0.0->hopsworks) (23.2.1)\n",
            "Requirement already satisfied: nbconvert<6.0 in /usr/local/lib/python3.8/dist-packages (from notebook>=4.4.1->widgetsnbextension~=3.6.0->ipywidgets>=7.5.1->great-expectations==0.14.12->hsfs[python]<3.1.0,>=3.0.0->hopsworks) (5.6.1)\n",
            "Requirement already satisfied: wcwidth in /usr/local/lib/python3.8/dist-packages (from prompt-toolkit<2.1.0,>=2.0.0->ipython>=4.0.0->ipywidgets>=7.5.1->great-expectations==0.14.12->hsfs[python]<3.1.0,>=3.0.0->hopsworks) (0.2.5)\n",
            "Requirement already satisfied: ptyprocess>=0.5 in /usr/local/lib/python3.8/dist-packages (from pexpect->ipython>=4.0.0->ipywidgets>=7.5.1->great-expectations==0.14.12->hsfs[python]<3.1.0,>=3.0.0->hopsworks) (0.7.0)\n",
            "Requirement already satisfied: defusedxml in /usr/local/lib/python3.8/dist-packages (from nbconvert<6.0->notebook>=4.4.1->widgetsnbextension~=3.6.0->ipywidgets>=7.5.1->great-expectations==0.14.12->hsfs[python]<3.1.0,>=3.0.0->hopsworks) (0.7.1)\n",
            "Requirement already satisfied: pandocfilters>=1.4.1 in /usr/local/lib/python3.8/dist-packages (from nbconvert<6.0->notebook>=4.4.1->widgetsnbextension~=3.6.0->ipywidgets>=7.5.1->great-expectations==0.14.12->hsfs[python]<3.1.0,>=3.0.0->hopsworks) (1.5.0)\n",
            "Requirement already satisfied: bleach in /usr/local/lib/python3.8/dist-packages (from nbconvert<6.0->notebook>=4.4.1->widgetsnbextension~=3.6.0->ipywidgets>=7.5.1->great-expectations==0.14.12->hsfs[python]<3.1.0,>=3.0.0->hopsworks) (5.0.1)\n",
            "Requirement already satisfied: testpath in /usr/local/lib/python3.8/dist-packages (from nbconvert<6.0->notebook>=4.4.1->widgetsnbextension~=3.6.0->ipywidgets>=7.5.1->great-expectations==0.14.12->hsfs[python]<3.1.0,>=3.0.0->hopsworks) (0.6.0)\n",
            "Requirement already satisfied: webencodings in /usr/local/lib/python3.8/dist-packages (from bleach->nbconvert<6.0->notebook>=4.4.1->widgetsnbextension~=3.6.0->ipywidgets>=7.5.1->great-expectations==0.14.12->hsfs[python]<3.1.0,>=3.0.0->hopsworks) (0.5.1)\n"
          ]
        }
      ]
    },
    {
      "cell_type": "code",
      "source": [
        "!pip install xgboost"
      ],
      "metadata": {
        "colab": {
          "base_uri": "https://localhost:8080/"
        },
        "id": "RneLJgcMmqxr",
        "outputId": "fdc53e9c-ae65-4b1a-8107-907e49aff557"
      },
      "execution_count": 2,
      "outputs": [
        {
          "output_type": "stream",
          "name": "stdout",
          "text": [
            "Looking in indexes: https://pypi.org/simple, https://us-python.pkg.dev/colab-wheels/public/simple/\n",
            "Requirement already satisfied: xgboost in /usr/local/lib/python3.8/dist-packages (0.90)\n",
            "Requirement already satisfied: scipy in /usr/local/lib/python3.8/dist-packages (from xgboost) (1.7.3)\n",
            "Requirement already satisfied: numpy in /usr/local/lib/python3.8/dist-packages (from xgboost) (1.21.6)\n"
          ]
        }
      ]
    },
    {
      "cell_type": "code",
      "source": [
        "import xgboost as xgb\n"
      ],
      "metadata": {
        "id": "i3NmqUkpmvOm"
      },
      "execution_count": 3,
      "outputs": []
    },
    {
      "cell_type": "code",
      "source": [
        "import pandas as pd\n",
        "from sklearn.ensemble import GradientBoostingRegressor\n",
        "from sklearn.metrics import f1_score\n",
        "import warnings\n",
        "warnings.filterwarnings(\"ignore\")\n",
        "from sklearn.model_selection import train_test_split"
      ],
      "metadata": {
        "id": "LY_bWSABmyyt"
      },
      "execution_count": 4,
      "outputs": []
    },
    {
      "cell_type": "code",
      "source": [
        "%cd /content/drive/MyDrive/jim"
      ],
      "metadata": {
        "colab": {
          "base_uri": "https://localhost:8080/"
        },
        "id": "OPUiKGGtkD4l",
        "outputId": "fac6ae95-2810-46c4-b925-fac634cab032"
      },
      "execution_count": 5,
      "outputs": [
        {
          "output_type": "stream",
          "name": "stdout",
          "text": [
            "/content/drive/MyDrive/jim\n"
          ]
        }
      ]
    },
    {
      "cell_type": "code",
      "source": [
        "from functions import *"
      ],
      "metadata": {
        "id": "194TkrmfkJu3"
      },
      "execution_count": 6,
      "outputs": []
    },
    {
      "cell_type": "code",
      "source": [
        "def data_encoder(X):\n",
        "    X.drop(columns=['date'], inplace=True)\n",
        "    category_cols = ['conditions','aqi']\n",
        "    col_names=[]\n",
        "    col_names=X.columns.values\n",
        "    for col_name in col_names:\n",
        "      if col_name not in category_cols:\n",
        "        X[col_name]=StandardScaler().fit_transform(X[[col_name]])\n",
        "    X['conditions'] = OrdinalEncoder().fit_transform(X[['conditions']])\n",
        "    return X"
      ],
      "metadata": {
        "id": "WJZtm0oOWVlW"
      },
      "execution_count": 15,
      "outputs": []
    },
    {
      "cell_type": "code",
      "execution_count": 24,
      "metadata": {
        "id": "bNsinXB0j3e7",
        "colab": {
          "base_uri": "https://localhost:8080/"
        },
        "outputId": "b2310ecc-84a0-42be-bbd1-0f6dd008c235"
      },
      "outputs": [
        {
          "output_type": "stream",
          "name": "stdout",
          "text": [
            "3293\n"
          ]
        }
      ],
      "source": [
        "data=pd.read_csv(\"/content/drive/MyDrive/jim/training.csv\")\n",
        "print(len(data))"
      ]
    },
    {
      "cell_type": "code",
      "source": [
        "data=data[data.aqi<200]\n",
        "print(len(data))"
      ],
      "metadata": {
        "colab": {
          "base_uri": "https://localhost:8080/"
        },
        "id": "mJxdv2IyVQQ-",
        "outputId": "f1392942-cd44-45a1-8adf-c3663f948e5d"
      },
      "execution_count": 25,
      "outputs": [
        {
          "output_type": "stream",
          "name": "stdout",
          "text": [
            "3025\n"
          ]
        }
      ]
    },
    {
      "cell_type": "code",
      "source": [
        "data_encoder(data)\n",
        "\n",
        "#data.show(5)"
      ],
      "metadata": {
        "colab": {
          "base_uri": "https://localhost:8080/",
          "height": 488
        },
        "id": "oxzvB0VcmZSe",
        "outputId": "d629cd7d-d43f-45b8-af69-f703f4d8f68d"
      },
      "execution_count": 26,
      "outputs": [
        {
          "output_type": "execute_result",
          "data": {
            "text/plain": [
              "      aqi   tempmax   tempmin      temp  feelslikemax  feelslikemin  \\\n",
              "0     136 -0.733652 -0.771028 -0.671537     -0.634675     -0.673159   \n",
              "2     127 -0.943986 -0.857860 -0.965169     -0.899350     -0.929923   \n",
              "4     168 -1.206904 -1.292022 -1.303291     -1.234087     -1.458555   \n",
              "6     178 -1.294543 -1.118357 -1.223209     -1.257440     -1.201791   \n",
              "7      65 -1.645100 -1.378854 -1.516841     -1.880206     -1.458555   \n",
              "...   ...       ...       ...       ...           ...           ...   \n",
              "3288   38 -1.469821 -1.465686 -1.481250     -1.288579     -1.458555   \n",
              "3289   62 -1.513641 -1.552519 -1.677004     -1.366424     -1.654904   \n",
              "3290  111 -1.294543 -1.639351 -1.623617     -1.132887     -1.549178   \n",
              "3291  170 -1.294543 -1.726183 -1.668106     -1.132887     -1.730423   \n",
              "3292  124 -0.943986 -1.378854 -1.303291     -1.086180     -1.367932   \n",
              "\n",
              "      feelslike       dew  humidity    precip  ...      snow  snowdepth  \\\n",
              "0     -0.682797 -1.381769 -1.747479 -0.199685  ... -0.037823  -0.094163   \n",
              "2     -0.940973 -1.133212 -1.060726 -0.199685  ... -0.037823  -0.094163   \n",
              "4     -1.363444 -0.969875 -0.073836 -0.199685  ... -0.037823  -0.094163   \n",
              "6     -1.253915 -1.047993 -0.323102 -0.199685  ... -0.037823  -0.094163   \n",
              "7     -1.660738 -1.822070 -1.630477 -0.199685  ... -0.037823  -0.094163   \n",
              "...         ...       ...       ...       ...  ...       ...        ...   \n",
              "3288  -1.519915 -1.388871 -0.974246 -0.199685  ... -0.037823  -0.094163   \n",
              "3289  -1.574679 -1.360464 -0.521497 -0.199685  ... -0.037823  -0.094163   \n",
              "3290  -1.433856 -1.147416 -0.022965 -0.199685  ... -0.037823  -0.094163   \n",
              "3291  -1.480797 -0.976977  0.623092 -0.199685  ... -0.037823  -0.094163   \n",
              "3292  -1.261738 -1.040891 -0.195925 -0.199685  ... -0.037823  -0.094163   \n",
              "\n",
              "      windspeed   winddir  cloudcover  visibility  solarradiation  \\\n",
              "0      1.163434  0.978166   -1.329522    1.159628       -0.976255   \n",
              "2     -0.475516 -1.584121   -1.255464    2.177810       -0.962905   \n",
              "4     -0.284472 -1.507922   -1.274953   -0.435524       -0.955624   \n",
              "6     -0.284472 -1.536382    0.572582   -0.435524       -1.311195   \n",
              "7      1.163434  1.455554   -1.029395    6.589931       -0.859753   \n",
              "...         ...       ...         ...         ...             ...   \n",
              "3288  -0.284472 -1.429888   -0.191378    0.854173       -1.029651   \n",
              "3289  -0.646449  1.498702   -0.475914    0.616597       -1.134016   \n",
              "3290  -1.008426  0.642158   -1.228180    0.107507       -1.035719   \n",
              "3291  -1.008426 -1.639204   -0.772143   -0.401584       -1.019942   \n",
              "3292   1.887387  1.338961   -0.955337   -0.605221       -1.010234   \n",
              "\n",
              "      solarenergy   uvindex  conditions  \n",
              "0       -0.970700 -0.703621         0.0  \n",
              "2       -0.970700 -0.703621         0.0  \n",
              "4       -0.928573 -0.703621         0.0  \n",
              "6       -1.307716 -1.167539         2.0  \n",
              "7       -0.858361 -0.703621         0.0  \n",
              "...           ...       ...         ...  \n",
              "3288    -1.040912 -0.703621         2.0  \n",
              "3289    -1.139208 -1.167539         2.0  \n",
              "3290    -1.026869 -0.703621         0.0  \n",
              "3291    -1.012827 -0.703621         0.0  \n",
              "3292    -0.998785 -0.703621         0.0  \n",
              "\n",
              "[3025 rows x 22 columns]"
            ],
            "text/html": [
              "\n",
              "  <div id=\"df-032bd0ff-9b1d-437a-9600-fb07dfec4a34\">\n",
              "    <div class=\"colab-df-container\">\n",
              "      <div>\n",
              "<style scoped>\n",
              "    .dataframe tbody tr th:only-of-type {\n",
              "        vertical-align: middle;\n",
              "    }\n",
              "\n",
              "    .dataframe tbody tr th {\n",
              "        vertical-align: top;\n",
              "    }\n",
              "\n",
              "    .dataframe thead th {\n",
              "        text-align: right;\n",
              "    }\n",
              "</style>\n",
              "<table border=\"1\" class=\"dataframe\">\n",
              "  <thead>\n",
              "    <tr style=\"text-align: right;\">\n",
              "      <th></th>\n",
              "      <th>aqi</th>\n",
              "      <th>tempmax</th>\n",
              "      <th>tempmin</th>\n",
              "      <th>temp</th>\n",
              "      <th>feelslikemax</th>\n",
              "      <th>feelslikemin</th>\n",
              "      <th>feelslike</th>\n",
              "      <th>dew</th>\n",
              "      <th>humidity</th>\n",
              "      <th>precip</th>\n",
              "      <th>...</th>\n",
              "      <th>snow</th>\n",
              "      <th>snowdepth</th>\n",
              "      <th>windspeed</th>\n",
              "      <th>winddir</th>\n",
              "      <th>cloudcover</th>\n",
              "      <th>visibility</th>\n",
              "      <th>solarradiation</th>\n",
              "      <th>solarenergy</th>\n",
              "      <th>uvindex</th>\n",
              "      <th>conditions</th>\n",
              "    </tr>\n",
              "  </thead>\n",
              "  <tbody>\n",
              "    <tr>\n",
              "      <th>0</th>\n",
              "      <td>136</td>\n",
              "      <td>-0.733652</td>\n",
              "      <td>-0.771028</td>\n",
              "      <td>-0.671537</td>\n",
              "      <td>-0.634675</td>\n",
              "      <td>-0.673159</td>\n",
              "      <td>-0.682797</td>\n",
              "      <td>-1.381769</td>\n",
              "      <td>-1.747479</td>\n",
              "      <td>-0.199685</td>\n",
              "      <td>...</td>\n",
              "      <td>-0.037823</td>\n",
              "      <td>-0.094163</td>\n",
              "      <td>1.163434</td>\n",
              "      <td>0.978166</td>\n",
              "      <td>-1.329522</td>\n",
              "      <td>1.159628</td>\n",
              "      <td>-0.976255</td>\n",
              "      <td>-0.970700</td>\n",
              "      <td>-0.703621</td>\n",
              "      <td>0.0</td>\n",
              "    </tr>\n",
              "    <tr>\n",
              "      <th>2</th>\n",
              "      <td>127</td>\n",
              "      <td>-0.943986</td>\n",
              "      <td>-0.857860</td>\n",
              "      <td>-0.965169</td>\n",
              "      <td>-0.899350</td>\n",
              "      <td>-0.929923</td>\n",
              "      <td>-0.940973</td>\n",
              "      <td>-1.133212</td>\n",
              "      <td>-1.060726</td>\n",
              "      <td>-0.199685</td>\n",
              "      <td>...</td>\n",
              "      <td>-0.037823</td>\n",
              "      <td>-0.094163</td>\n",
              "      <td>-0.475516</td>\n",
              "      <td>-1.584121</td>\n",
              "      <td>-1.255464</td>\n",
              "      <td>2.177810</td>\n",
              "      <td>-0.962905</td>\n",
              "      <td>-0.970700</td>\n",
              "      <td>-0.703621</td>\n",
              "      <td>0.0</td>\n",
              "    </tr>\n",
              "    <tr>\n",
              "      <th>4</th>\n",
              "      <td>168</td>\n",
              "      <td>-1.206904</td>\n",
              "      <td>-1.292022</td>\n",
              "      <td>-1.303291</td>\n",
              "      <td>-1.234087</td>\n",
              "      <td>-1.458555</td>\n",
              "      <td>-1.363444</td>\n",
              "      <td>-0.969875</td>\n",
              "      <td>-0.073836</td>\n",
              "      <td>-0.199685</td>\n",
              "      <td>...</td>\n",
              "      <td>-0.037823</td>\n",
              "      <td>-0.094163</td>\n",
              "      <td>-0.284472</td>\n",
              "      <td>-1.507922</td>\n",
              "      <td>-1.274953</td>\n",
              "      <td>-0.435524</td>\n",
              "      <td>-0.955624</td>\n",
              "      <td>-0.928573</td>\n",
              "      <td>-0.703621</td>\n",
              "      <td>0.0</td>\n",
              "    </tr>\n",
              "    <tr>\n",
              "      <th>6</th>\n",
              "      <td>178</td>\n",
              "      <td>-1.294543</td>\n",
              "      <td>-1.118357</td>\n",
              "      <td>-1.223209</td>\n",
              "      <td>-1.257440</td>\n",
              "      <td>-1.201791</td>\n",
              "      <td>-1.253915</td>\n",
              "      <td>-1.047993</td>\n",
              "      <td>-0.323102</td>\n",
              "      <td>-0.199685</td>\n",
              "      <td>...</td>\n",
              "      <td>-0.037823</td>\n",
              "      <td>-0.094163</td>\n",
              "      <td>-0.284472</td>\n",
              "      <td>-1.536382</td>\n",
              "      <td>0.572582</td>\n",
              "      <td>-0.435524</td>\n",
              "      <td>-1.311195</td>\n",
              "      <td>-1.307716</td>\n",
              "      <td>-1.167539</td>\n",
              "      <td>2.0</td>\n",
              "    </tr>\n",
              "    <tr>\n",
              "      <th>7</th>\n",
              "      <td>65</td>\n",
              "      <td>-1.645100</td>\n",
              "      <td>-1.378854</td>\n",
              "      <td>-1.516841</td>\n",
              "      <td>-1.880206</td>\n",
              "      <td>-1.458555</td>\n",
              "      <td>-1.660738</td>\n",
              "      <td>-1.822070</td>\n",
              "      <td>-1.630477</td>\n",
              "      <td>-0.199685</td>\n",
              "      <td>...</td>\n",
              "      <td>-0.037823</td>\n",
              "      <td>-0.094163</td>\n",
              "      <td>1.163434</td>\n",
              "      <td>1.455554</td>\n",
              "      <td>-1.029395</td>\n",
              "      <td>6.589931</td>\n",
              "      <td>-0.859753</td>\n",
              "      <td>-0.858361</td>\n",
              "      <td>-0.703621</td>\n",
              "      <td>0.0</td>\n",
              "    </tr>\n",
              "    <tr>\n",
              "      <th>...</th>\n",
              "      <td>...</td>\n",
              "      <td>...</td>\n",
              "      <td>...</td>\n",
              "      <td>...</td>\n",
              "      <td>...</td>\n",
              "      <td>...</td>\n",
              "      <td>...</td>\n",
              "      <td>...</td>\n",
              "      <td>...</td>\n",
              "      <td>...</td>\n",
              "      <td>...</td>\n",
              "      <td>...</td>\n",
              "      <td>...</td>\n",
              "      <td>...</td>\n",
              "      <td>...</td>\n",
              "      <td>...</td>\n",
              "      <td>...</td>\n",
              "      <td>...</td>\n",
              "      <td>...</td>\n",
              "      <td>...</td>\n",
              "      <td>...</td>\n",
              "    </tr>\n",
              "    <tr>\n",
              "      <th>3288</th>\n",
              "      <td>38</td>\n",
              "      <td>-1.469821</td>\n",
              "      <td>-1.465686</td>\n",
              "      <td>-1.481250</td>\n",
              "      <td>-1.288579</td>\n",
              "      <td>-1.458555</td>\n",
              "      <td>-1.519915</td>\n",
              "      <td>-1.388871</td>\n",
              "      <td>-0.974246</td>\n",
              "      <td>-0.199685</td>\n",
              "      <td>...</td>\n",
              "      <td>-0.037823</td>\n",
              "      <td>-0.094163</td>\n",
              "      <td>-0.284472</td>\n",
              "      <td>-1.429888</td>\n",
              "      <td>-0.191378</td>\n",
              "      <td>0.854173</td>\n",
              "      <td>-1.029651</td>\n",
              "      <td>-1.040912</td>\n",
              "      <td>-0.703621</td>\n",
              "      <td>2.0</td>\n",
              "    </tr>\n",
              "    <tr>\n",
              "      <th>3289</th>\n",
              "      <td>62</td>\n",
              "      <td>-1.513641</td>\n",
              "      <td>-1.552519</td>\n",
              "      <td>-1.677004</td>\n",
              "      <td>-1.366424</td>\n",
              "      <td>-1.654904</td>\n",
              "      <td>-1.574679</td>\n",
              "      <td>-1.360464</td>\n",
              "      <td>-0.521497</td>\n",
              "      <td>-0.199685</td>\n",
              "      <td>...</td>\n",
              "      <td>-0.037823</td>\n",
              "      <td>-0.094163</td>\n",
              "      <td>-0.646449</td>\n",
              "      <td>1.498702</td>\n",
              "      <td>-0.475914</td>\n",
              "      <td>0.616597</td>\n",
              "      <td>-1.134016</td>\n",
              "      <td>-1.139208</td>\n",
              "      <td>-1.167539</td>\n",
              "      <td>2.0</td>\n",
              "    </tr>\n",
              "    <tr>\n",
              "      <th>3290</th>\n",
              "      <td>111</td>\n",
              "      <td>-1.294543</td>\n",
              "      <td>-1.639351</td>\n",
              "      <td>-1.623617</td>\n",
              "      <td>-1.132887</td>\n",
              "      <td>-1.549178</td>\n",
              "      <td>-1.433856</td>\n",
              "      <td>-1.147416</td>\n",
              "      <td>-0.022965</td>\n",
              "      <td>-0.199685</td>\n",
              "      <td>...</td>\n",
              "      <td>-0.037823</td>\n",
              "      <td>-0.094163</td>\n",
              "      <td>-1.008426</td>\n",
              "      <td>0.642158</td>\n",
              "      <td>-1.228180</td>\n",
              "      <td>0.107507</td>\n",
              "      <td>-1.035719</td>\n",
              "      <td>-1.026869</td>\n",
              "      <td>-0.703621</td>\n",
              "      <td>0.0</td>\n",
              "    </tr>\n",
              "    <tr>\n",
              "      <th>3291</th>\n",
              "      <td>170</td>\n",
              "      <td>-1.294543</td>\n",
              "      <td>-1.726183</td>\n",
              "      <td>-1.668106</td>\n",
              "      <td>-1.132887</td>\n",
              "      <td>-1.730423</td>\n",
              "      <td>-1.480797</td>\n",
              "      <td>-0.976977</td>\n",
              "      <td>0.623092</td>\n",
              "      <td>-0.199685</td>\n",
              "      <td>...</td>\n",
              "      <td>-0.037823</td>\n",
              "      <td>-0.094163</td>\n",
              "      <td>-1.008426</td>\n",
              "      <td>-1.639204</td>\n",
              "      <td>-0.772143</td>\n",
              "      <td>-0.401584</td>\n",
              "      <td>-1.019942</td>\n",
              "      <td>-1.012827</td>\n",
              "      <td>-0.703621</td>\n",
              "      <td>0.0</td>\n",
              "    </tr>\n",
              "    <tr>\n",
              "      <th>3292</th>\n",
              "      <td>124</td>\n",
              "      <td>-0.943986</td>\n",
              "      <td>-1.378854</td>\n",
              "      <td>-1.303291</td>\n",
              "      <td>-1.086180</td>\n",
              "      <td>-1.367932</td>\n",
              "      <td>-1.261738</td>\n",
              "      <td>-1.040891</td>\n",
              "      <td>-0.195925</td>\n",
              "      <td>-0.199685</td>\n",
              "      <td>...</td>\n",
              "      <td>-0.037823</td>\n",
              "      <td>-0.094163</td>\n",
              "      <td>1.887387</td>\n",
              "      <td>1.338961</td>\n",
              "      <td>-0.955337</td>\n",
              "      <td>-0.605221</td>\n",
              "      <td>-1.010234</td>\n",
              "      <td>-0.998785</td>\n",
              "      <td>-0.703621</td>\n",
              "      <td>0.0</td>\n",
              "    </tr>\n",
              "  </tbody>\n",
              "</table>\n",
              "<p>3025 rows × 22 columns</p>\n",
              "</div>\n",
              "      <button class=\"colab-df-convert\" onclick=\"convertToInteractive('df-032bd0ff-9b1d-437a-9600-fb07dfec4a34')\"\n",
              "              title=\"Convert this dataframe to an interactive table.\"\n",
              "              style=\"display:none;\">\n",
              "        \n",
              "  <svg xmlns=\"http://www.w3.org/2000/svg\" height=\"24px\"viewBox=\"0 0 24 24\"\n",
              "       width=\"24px\">\n",
              "    <path d=\"M0 0h24v24H0V0z\" fill=\"none\"/>\n",
              "    <path d=\"M18.56 5.44l.94 2.06.94-2.06 2.06-.94-2.06-.94-.94-2.06-.94 2.06-2.06.94zm-11 1L8.5 8.5l.94-2.06 2.06-.94-2.06-.94L8.5 2.5l-.94 2.06-2.06.94zm10 10l.94 2.06.94-2.06 2.06-.94-2.06-.94-.94-2.06-.94 2.06-2.06.94z\"/><path d=\"M17.41 7.96l-1.37-1.37c-.4-.4-.92-.59-1.43-.59-.52 0-1.04.2-1.43.59L10.3 9.45l-7.72 7.72c-.78.78-.78 2.05 0 2.83L4 21.41c.39.39.9.59 1.41.59.51 0 1.02-.2 1.41-.59l7.78-7.78 2.81-2.81c.8-.78.8-2.07 0-2.86zM5.41 20L4 18.59l7.72-7.72 1.47 1.35L5.41 20z\"/>\n",
              "  </svg>\n",
              "      </button>\n",
              "      \n",
              "  <style>\n",
              "    .colab-df-container {\n",
              "      display:flex;\n",
              "      flex-wrap:wrap;\n",
              "      gap: 12px;\n",
              "    }\n",
              "\n",
              "    .colab-df-convert {\n",
              "      background-color: #E8F0FE;\n",
              "      border: none;\n",
              "      border-radius: 50%;\n",
              "      cursor: pointer;\n",
              "      display: none;\n",
              "      fill: #1967D2;\n",
              "      height: 32px;\n",
              "      padding: 0 0 0 0;\n",
              "      width: 32px;\n",
              "    }\n",
              "\n",
              "    .colab-df-convert:hover {\n",
              "      background-color: #E2EBFA;\n",
              "      box-shadow: 0px 1px 2px rgba(60, 64, 67, 0.3), 0px 1px 3px 1px rgba(60, 64, 67, 0.15);\n",
              "      fill: #174EA6;\n",
              "    }\n",
              "\n",
              "    [theme=dark] .colab-df-convert {\n",
              "      background-color: #3B4455;\n",
              "      fill: #D2E3FC;\n",
              "    }\n",
              "\n",
              "    [theme=dark] .colab-df-convert:hover {\n",
              "      background-color: #434B5C;\n",
              "      box-shadow: 0px 1px 3px 1px rgba(0, 0, 0, 0.15);\n",
              "      filter: drop-shadow(0px 1px 2px rgba(0, 0, 0, 0.3));\n",
              "      fill: #FFFFFF;\n",
              "    }\n",
              "  </style>\n",
              "\n",
              "      <script>\n",
              "        const buttonEl =\n",
              "          document.querySelector('#df-032bd0ff-9b1d-437a-9600-fb07dfec4a34 button.colab-df-convert');\n",
              "        buttonEl.style.display =\n",
              "          google.colab.kernel.accessAllowed ? 'block' : 'none';\n",
              "\n",
              "        async function convertToInteractive(key) {\n",
              "          const element = document.querySelector('#df-032bd0ff-9b1d-437a-9600-fb07dfec4a34');\n",
              "          const dataTable =\n",
              "            await google.colab.kernel.invokeFunction('convertToInteractive',\n",
              "                                                     [key], {});\n",
              "          if (!dataTable) return;\n",
              "\n",
              "          const docLinkHtml = 'Like what you see? Visit the ' +\n",
              "            '<a target=\"_blank\" href=https://colab.research.google.com/notebooks/data_table.ipynb>data table notebook</a>'\n",
              "            + ' to learn more about interactive tables.';\n",
              "          element.innerHTML = '';\n",
              "          dataTable['output_type'] = 'display_data';\n",
              "          await google.colab.output.renderOutput(dataTable, element);\n",
              "          const docLink = document.createElement('div');\n",
              "          docLink.innerHTML = docLinkHtml;\n",
              "          element.appendChild(docLink);\n",
              "        }\n",
              "      </script>\n",
              "    </div>\n",
              "  </div>\n",
              "  "
            ]
          },
          "metadata": {},
          "execution_count": 26
        }
      ]
    },
    {
      "cell_type": "code",
      "source": [
        "train_data, test= train_test_split(data, test_size=0.2, random_state=42)"
      ],
      "metadata": {
        "id": "07sKK9KL7-_X"
      },
      "execution_count": 27,
      "outputs": []
    },
    {
      "cell_type": "code",
      "source": [
        "X = data.fillna(0)\n",
        "y = X.pop(\"aqi\")"
      ],
      "metadata": {
        "id": "3B645245FHVx"
      },
      "execution_count": 28,
      "outputs": []
    },
    {
      "cell_type": "code",
      "source": [
        "X_train = train_data.fillna(0)\n",
        "y_train = X_train.pop(\"aqi\")"
      ],
      "metadata": {
        "id": "-boZ_zmjhyWv"
      },
      "execution_count": 29,
      "outputs": []
    },
    {
      "cell_type": "code",
      "source": [
        "X_test = test.fillna(0)\n",
        "y_test = X_test.pop(\"aqi\")"
      ],
      "metadata": {
        "id": "U5c30JLmhTCL"
      },
      "execution_count": 30,
      "outputs": []
    },
    {
      "cell_type": "code",
      "source": [
        "from sklearn.ensemble import StackingRegressor\n",
        "from sklearn.model_selection import GridSearchCV\n",
        "from sklearn.svm import SVR\n",
        "import xgboost as xgb\n",
        "\n",
        "# Create the parameter grid for the base models\n",
        "param_grid_svr = {\n",
        "    'C': [0.1, 1, 10, 100],\n",
        "    'epsilon': [0.1, 0.2, 0.3, 0.4],\n",
        "    'gamma': [0.1, 0.2, 0.3, 0.4,0.5]\n",
        "}\n",
        "param_grid_xgb = {\n",
        "    'max_depth': [3, 4, 5, 6,7,8],\n",
        "    'learning_rate': [0.1, 0.2, 0.3, 0.4],\n",
        "    'n_estimators': [100,150, 200, 250,300,350, 400]\n",
        "}\n",
        "\n",
        "# Create the parameter grid for the ensemble model\n",
        "param_grid_ensemble = {\n",
        "    'cv': [3, 5, 7]\n",
        "}\n",
        "\n",
        "# Create the base models\n",
        "svr = SVR(kernel='rbf')\n",
        "xgb_model = xgb.XGBRegressor()\n",
        "\n",
        "# Create the stacking regressor\n",
        "ensemble_model = StackingRegressor(estimators=[('svr', svr), ('xgb', xgb_model)])\n",
        "\n",
        "# Create the grid search models\n",
        "grid_search_svr = GridSearchCV(svr, param_grid_svr, cv=5, verbose=2, n_jobs=-1)\n",
        "grid_search_xgb = GridSearchCV(xgb_model, param_grid_xgb, cv=5, verbose=2, n_jobs=-1)\n",
        "grid_search_ensemble = GridSearchCV(ensemble_model, param_grid_ensemble, cv=5, verbose=2, n_jobs=-1)\n",
        "\n",
        "# Fit the grid search models to the data\n",
        "grid_search_svr.fit(X_train, y_train)\n",
        "grid_search_xgb.fit(X_train, y_train)\n",
        "grid_search_ensemble.fit(X_train, y_train)\n",
        "\n",
        "# Print the best parameters and best scores for the base models\n",
        "print(grid_search_svr.best_params_)\n",
        "print(grid_search_svr.best_score_)\n",
        "print(grid_search_xgb.best_params_)\n",
        "print(grid_search_xgb.best_score_)\n",
        "\n",
        "# Print the best parameters and best score for the ensemble model\n",
        "print(grid_search_ensemble.best_params_)\n",
        "print(grid_search_ensemble.best_score_)\n"
      ],
      "metadata": {
        "colab": {
          "base_uri": "https://localhost:8080/"
        },
        "id": "tdHGuvtc9o-3",
        "outputId": "31515d1f-a3de-4acb-d7db-cd794b4e4965"
      },
      "execution_count": 31,
      "outputs": [
        {
          "output_type": "stream",
          "name": "stdout",
          "text": [
            "Fitting 5 folds for each of 80 candidates, totalling 400 fits\n",
            "Fitting 5 folds for each of 168 candidates, totalling 840 fits\n",
            "[19:39:25] WARNING: /workspace/src/objective/regression_obj.cu:152: reg:linear is now deprecated in favor of reg:squarederror.\n",
            "Fitting 5 folds for each of 3 candidates, totalling 15 fits\n",
            "[19:39:48] WARNING: /workspace/src/objective/regression_obj.cu:152: reg:linear is now deprecated in favor of reg:squarederror.\n",
            "[19:39:50] WARNING: /workspace/src/objective/regression_obj.cu:152: reg:linear is now deprecated in favor of reg:squarederror.\n",
            "[19:39:50] WARNING: /workspace/src/objective/regression_obj.cu:152: reg:linear is now deprecated in favor of reg:squarederror.\n",
            "[19:39:51] WARNING: /workspace/src/objective/regression_obj.cu:152: reg:linear is now deprecated in favor of reg:squarederror.\n",
            "[19:39:51] WARNING: /workspace/src/objective/regression_obj.cu:152: reg:linear is now deprecated in favor of reg:squarederror.\n",
            "[19:39:51] WARNING: /workspace/src/objective/regression_obj.cu:152: reg:linear is now deprecated in favor of reg:squarederror.\n",
            "[19:39:51] WARNING: /workspace/src/objective/regression_obj.cu:152: reg:linear is now deprecated in favor of reg:squarederror.\n",
            "[19:39:51] WARNING: /workspace/src/objective/regression_obj.cu:152: reg:linear is now deprecated in favor of reg:squarederror.\n",
            "{'C': 100, 'epsilon': 0.4, 'gamma': 0.1}\n",
            "0.7413341234500578\n",
            "{'learning_rate': 0.1, 'max_depth': 5, 'n_estimators': 100}\n",
            "0.7904426539346099\n",
            "{'cv': 7}\n",
            "0.7888492172534185\n"
          ]
        }
      ]
    },
    {
      "cell_type": "code",
      "source": [
        "best_model=grid_search_ensemble"
      ],
      "metadata": {
        "id": "gz8w8l5c54o6"
      },
      "execution_count": 32,
      "outputs": []
    },
    {
      "cell_type": "code",
      "source": [
        "from sklearn.metrics import mean_absolute_error, mean_squared_error\n",
        "import numpy as np\n",
        "y_pred= best_model.predict(X_test)\n",
        "print(max(y_pred-y_test), min(y_pred-y_test))\n",
        "mae = mean_absolute_error(y_test, y_pred)\n",
        "mse = mean_squared_error(y_test, y_pred)\n",
        "rmse = np.sqrt(mse)\n",
        "print(rmse)"
      ],
      "metadata": {
        "colab": {
          "base_uri": "https://localhost:8080/"
        },
        "id": "bwFkCaRcrbNb",
        "outputId": "dace61b0-96f2-4f63-9f0d-1b59d8f6c87e"
      },
      "execution_count": 33,
      "outputs": [
        {
          "output_type": "stream",
          "name": "stdout",
          "text": [
            "69.96892928557564 -74.41246280644782\n",
            "19.146468585862046\n"
          ]
        }
      ]
    },
    {
      "cell_type": "code",
      "source": [
        "y_pred= best_model.predict(X_train)\n",
        "mae = mean_absolute_error(y_train, y_pred)\n",
        "mse = mean_squared_error(y_train, y_pred)\n",
        "rmse = np.sqrt(mse)\n",
        "print(rmse)"
      ],
      "metadata": {
        "colab": {
          "base_uri": "https://localhost:8080/"
        },
        "outputId": "69d9af35-f215-4aec-9eee-0cff44cfb5e1",
        "id": "5AKR2RcluGYf"
      },
      "execution_count": 34,
      "outputs": [
        {
          "output_type": "stream",
          "name": "stdout",
          "text": [
            "17.98748822119084\n"
          ]
        }
      ]
    },
    {
      "cell_type": "code",
      "source": [
        "y_pred= best_model.predict(X)\n",
        "mae = mean_absolute_error(y, y_pred)\n",
        "mse = mean_squared_error(y, y_pred)\n",
        "rmse = np.sqrt(mse)\n",
        "print(rmse)"
      ],
      "metadata": {
        "colab": {
          "base_uri": "https://localhost:8080/"
        },
        "id": "zKkGepMquZ3y",
        "outputId": "d571b9a0-392e-44fe-d494-5fb7c7ab7c69"
      },
      "execution_count": 35,
      "outputs": [
        {
          "output_type": "stream",
          "name": "stdout",
          "text": [
            "18.225181422083676\n"
          ]
        }
      ]
    },
    {
      "cell_type": "code",
      "source": [
        "import hopsworks\n",
        "\n",
        "project = hopsworks.login() \n",
        "\n",
        "fs = project.get_feature_store() "
      ],
      "metadata": {
        "colab": {
          "base_uri": "https://localhost:8080/"
        },
        "id": "abqMqKMGvY3c",
        "outputId": "3b8df331-d9d1-4643-b788-6c8cb1042b4a"
      },
      "execution_count": 36,
      "outputs": [
        {
          "output_type": "stream",
          "name": "stdout",
          "text": [
            "Connected. Call `.close()` to terminate connection gracefully.\n",
            "\n",
            "Logged in to project, explore it here https://c.app.hopsworks.ai:443/p/5333\n"
          ]
        },
        {
          "output_type": "stream",
          "name": "stderr",
          "text": [
            "DeprecationWarning: Using or importing the ABCs from 'collections' instead of from 'collections.abc' is deprecated since Python 3.3, and in 3.10 it will stop working\n",
            "DeprecationWarning: Using or importing the ABCs from 'collections' instead of from 'collections.abc' is deprecated since Python 3.3, and in 3.10 it will stop working\n"
          ]
        },
        {
          "output_type": "stream",
          "name": "stdout",
          "text": [
            "Connected. Call `.close()` to terminate connection gracefully.\n"
          ]
        }
      ]
    },
    {
      "cell_type": "code",
      "source": [
        "mr = project.get_model_registry()"
      ],
      "metadata": {
        "colab": {
          "base_uri": "https://localhost:8080/"
        },
        "id": "C3ejk7JfnuqU",
        "outputId": "ecf7df99-dff7-4118-b483-b066ae2af758"
      },
      "execution_count": 37,
      "outputs": [
        {
          "output_type": "stream",
          "name": "stdout",
          "text": [
            "Connected. Call `.close()` to terminate connection gracefully.\n"
          ]
        }
      ]
    },
    {
      "cell_type": "code",
      "source": [
        "from hsml.schema import Schema\n",
        "from hsml.model_schema import ModelSchema\n",
        "\n",
        "input_schema = Schema(X)\n",
        "output_schema = Schema(y)\n",
        "model_schema = ModelSchema(input_schema=input_schema, output_schema=output_schema)\n",
        "\n",
        "model_schema.to_dict()"
      ],
      "metadata": {
        "colab": {
          "base_uri": "https://localhost:8080/"
        },
        "id": "x2uebEHKnyUD",
        "outputId": "5018200a-e787-41b2-cede-e7d930e0f54b"
      },
      "execution_count": 41,
      "outputs": [
        {
          "output_type": "execute_result",
          "data": {
            "text/plain": [
              "{'input_schema': {'columnar_schema': [{'name': 'tempmax', 'type': 'float64'},\n",
              "   {'name': 'tempmin', 'type': 'float64'},\n",
              "   {'name': 'temp', 'type': 'float64'},\n",
              "   {'name': 'feelslikemax', 'type': 'float64'},\n",
              "   {'name': 'feelslikemin', 'type': 'float64'},\n",
              "   {'name': 'feelslike', 'type': 'float64'},\n",
              "   {'name': 'dew', 'type': 'float64'},\n",
              "   {'name': 'humidity', 'type': 'float64'},\n",
              "   {'name': 'precip', 'type': 'float64'},\n",
              "   {'name': 'precipprob', 'type': 'float64'},\n",
              "   {'name': 'precipcover', 'type': 'float64'},\n",
              "   {'name': 'snow', 'type': 'float64'},\n",
              "   {'name': 'snowdepth', 'type': 'float64'},\n",
              "   {'name': 'windspeed', 'type': 'float64'},\n",
              "   {'name': 'winddir', 'type': 'float64'},\n",
              "   {'name': 'cloudcover', 'type': 'float64'},\n",
              "   {'name': 'visibility', 'type': 'float64'},\n",
              "   {'name': 'solarradiation', 'type': 'float64'},\n",
              "   {'name': 'solarenergy', 'type': 'float64'},\n",
              "   {'name': 'uvindex', 'type': 'float64'},\n",
              "   {'name': 'conditions', 'type': 'float64'}]},\n",
              " 'output_schema': {'columnar_schema': [{'name': 'aqi', 'type': 'int64'}]}}"
            ]
          },
          "metadata": {},
          "execution_count": 41
        }
      ]
    },
    {
      "cell_type": "code",
      "source": [
        "import joblib\n",
        "\n",
        "joblib.dump(best_model, 'model.pkl')"
      ],
      "metadata": {
        "colab": {
          "base_uri": "https://localhost:8080/"
        },
        "id": "ULf6vteun3iH",
        "outputId": "7afb6e57-76ac-43ec-eccb-40665f0176d0"
      },
      "execution_count": 42,
      "outputs": [
        {
          "output_type": "execute_result",
          "data": {
            "text/plain": [
              "['model.pkl']"
            ]
          },
          "metadata": {},
          "execution_count": 42
        }
      ]
    },
    {
      "cell_type": "code",
      "source": [
        "model = mr.sklearn.create_model(\n",
        "    name=\"aqi_ensemble\",\n",
        "    metrics={\"rmse\": \"19.15\"},\n",
        "    description=\"ensembled aqi prediction model.\",\n",
        "    input_example=X.sample().to_numpy(),\n",
        "    model_schema=model_schema\n",
        ")\n",
        "\n",
        "model.save('model.pkl')"
      ],
      "metadata": {
        "colab": {
          "base_uri": "https://localhost:8080/",
          "height": 85,
          "referenced_widgets": [
            "3574fce3f4f54c2cb0e0693fa3564c98",
            "c44d05bff1194dda8c235cd09e0844ad",
            "a038aa2e09de4769bdfab5bdf1ef29d7",
            "2bb2d69f97db4fe3a6b626b0d1c3b6e2",
            "9181c87195a24b288bbd28789dbc9ccb",
            "df4f499528f9456a9a0a669429a039b6",
            "cd7792bab026482796194d5f3d7c0cd3",
            "05570059ec1f47949527a28da0898dbb",
            "58e6909461cf4719871f47dc55ddab83",
            "eb47a8c42d824ec983bd3cc04e406e17",
            "bb48c81969014ff4b66d5fb3533a1cdc"
          ]
        },
        "id": "CkQPsVHon7wH",
        "outputId": "900b6ceb-f3e5-4103-a6a1-230dfd283cf5"
      },
      "execution_count": 43,
      "outputs": [
        {
          "output_type": "display_data",
          "data": {
            "text/plain": [
              "  0%|          | 0/6 [00:00<?, ?it/s]"
            ],
            "application/vnd.jupyter.widget-view+json": {
              "version_major": 2,
              "version_minor": 0,
              "model_id": "3574fce3f4f54c2cb0e0693fa3564c98"
            }
          },
          "metadata": {}
        },
        {
          "output_type": "stream",
          "name": "stdout",
          "text": [
            "Model created, explore it at https://c.app.hopsworks.ai:443/p/5333/models/aqi_ensemble/3\n"
          ]
        },
        {
          "output_type": "execute_result",
          "data": {
            "text/plain": [
              "Model(name: 'aqi_ensemble', version: 3)"
            ]
          },
          "metadata": {},
          "execution_count": 43
        }
      ]
    }
  ]
}
